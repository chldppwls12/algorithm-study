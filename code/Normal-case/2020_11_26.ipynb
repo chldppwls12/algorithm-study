{
 "cells": [
  {
   "cell_type": "markdown",
   "metadata": {
    "colab_type": "text",
    "id": "view-in-github"
   },
   "source": [
    "<a href=\"https://colab.research.google.com/github/Normal-case/coding_test/blob/main/coding_test.ipynb\" target=\"_parent\"><img src=\"https://colab.research.google.com/assets/colab-badge.svg\" alt=\"Open In Colab\"/></a>"
   ]
  },
  {
   "cell_type": "code",
   "execution_count": 1,
   "metadata": {
    "colab": {
     "base_uri": "https://localhost:8080/"
    },
    "id": "rXCIn-FWw0Xu",
    "outputId": "83ee5db7-28ee-49fb-dde4-f0e838310356"
   },
   "outputs": [
    {
     "name": "stdout",
     "output_type": "stream",
     "text": [
      "1 2\n",
      "3\n"
     ]
    }
   ],
   "source": [
    "# no.1000 (A + B)\n",
    "A, B = input('').split(' ')\n",
    "print(int(A) + int(B))"
   ]
  },
  {
   "cell_type": "code",
   "execution_count": 2,
   "metadata": {
    "colab": {
     "base_uri": "https://localhost:8080/"
    },
    "id": "gCiJzKNkw8MX",
    "outputId": "21f38858-bfee-4a01-d97e-8c3ab6c92cf9"
   },
   "outputs": [
    {
     "name": "stdout",
     "output_type": "stream",
     "text": [
      "3 2\n",
      "1\n"
     ]
    }
   ],
   "source": [
    "# no.1001 (A - B)\n",
    "A, B = input('').split(' ')\n",
    "print(int(A) - int(B))"
   ]
  },
  {
   "cell_type": "code",
   "execution_count": 9,
   "metadata": {
    "colab": {
     "base_uri": "https://localhost:8080/"
    },
    "id": "zXSyqzoLxGLO",
    "outputId": "1ffd5f6c-16a0-417b-a565-1c1d53a205c7"
   },
   "outputs": [
    {
     "name": "stdout",
     "output_type": "stream",
     "text": [
      "17 9\n",
      "1\n",
      "8\n"
     ]
    }
   ],
   "source": [
    "# no.1271 (엄청난부자2)\n",
    "n, m = map(int, input('').split(' '))\n",
    "quotient, remainder = divmod(n, m)\n",
    "print(quotient)\n",
    "print(remainder)"
   ]
  },
  {
   "cell_type": "code",
   "execution_count": 16,
   "metadata": {
    "colab": {
     "base_uri": "https://localhost:8080/"
    },
    "id": "bIeW0r6mxkS6",
    "outputId": "f984f811-5598-4197-ddcc-a8dd65899a28"
   },
   "outputs": [
    {
     "name": "stdout",
     "output_type": "stream",
     "text": [
      "fff\n",
      "4095\n"
     ]
    }
   ],
   "source": [
    "# no.1550 (16진수)\n",
    "value = input()\n",
    "value_16 = '0x{}'.format(value)\n",
    "print(int(value_16, 16))"
   ]
  },
  {
   "cell_type": "code",
   "execution_count": 19,
   "metadata": {
    "colab": {
     "base_uri": "https://localhost:8080/"
    },
    "id": "s4BWQAfQzyxJ",
    "outputId": "3e96334e-4d91-4073-c3ed-463d0cf3ddd7"
   },
   "outputs": [
    {
     "name": "stdout",
     "output_type": "stream",
     "text": [
      "81\n",
      "42\n",
      "123\n",
      "39\n",
      "3402\n"
     ]
    }
   ],
   "source": [
    "# no.2338  (긴자리 계산)\n",
    "a = int(input())\n",
    "b = int(input())\n",
    "print(a+b)\n",
    "print(a-b)\n",
    "print(a*b)"
   ]
  }
 ],
 "metadata": {
  "colab": {
   "authorship_tag": "ABX9TyM3+nCdOilTUw0+d/sztjUM",
   "include_colab_link": true,
   "name": "coding_test.ipynb",
   "provenance": []
  },
  "kernelspec": {
   "display_name": "Python 3",
   "language": "python",
   "name": "python3"
  },
  "language_info": {
   "codemirror_mode": {
    "name": "ipython",
    "version": 3
   },
   "file_extension": ".py",
   "mimetype": "text/x-python",
   "name": "python",
   "nbconvert_exporter": "python",
   "pygments_lexer": "ipython3",
   "version": "3.8.5"
  }
 },
 "nbformat": 4,
 "nbformat_minor": 1
}
