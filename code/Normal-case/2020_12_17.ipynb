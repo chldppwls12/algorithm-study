{
 "cells": [
  {
   "cell_type": "code",
   "execution_count": 1,
   "metadata": {},
   "outputs": [
    {
     "name": "stdout",
     "output_type": "stream",
     "text": [
      "2\n",
      "2 * 1 = 2\n",
      "2 * 2 = 4\n",
      "2 * 3 = 6\n",
      "2 * 4 = 8\n",
      "2 * 5 = 10\n",
      "2 * 6 = 12\n",
      "2 * 7 = 14\n",
      "2 * 8 = 16\n",
      "2 * 9 = 18\n"
     ]
    }
   ],
   "source": [
    "# 구구단\n",
    "n = int(input())\n",
    "\n",
    "for i in range(1, 10):\n",
    "    print(f'{n} * {i} = {n*i}')"
   ]
  },
  {
   "cell_type": "code",
   "execution_count": 4,
   "metadata": {},
   "outputs": [
    {
     "name": "stdout",
     "output_type": "stream",
     "text": [
      "150\n",
      "266\n",
      "427\n",
      "3\n",
      "1\n",
      "0\n",
      "2\n",
      "0\n",
      "0\n",
      "0\n",
      "2\n",
      "0\n",
      "0\n"
     ]
    }
   ],
   "source": [
    "# 숫자의 개수\n",
    "a = int(input())\n",
    "b = int(input())\n",
    "c = int(input())\n",
    "mul = str(a*b*c)\n",
    "count = [0] * 10\n",
    "for i in mul:\n",
    "    count[int(i)] += 1\n",
    "\n",
    "for c in count:\n",
    "    print(c)"
   ]
  },
  {
   "cell_type": "code",
   "execution_count": 21,
   "metadata": {},
   "outputs": [
    {
     "name": "stdout",
     "output_type": "stream",
     "text": [
      "9\n",
      "-1\n"
     ]
    }
   ],
   "source": [
    "# 설탕 배달\n",
    "n = int(input())\n",
    "min_num = 100000\n",
    "count = 0\n",
    "if n%3 == 0:\n",
    "    min_num = n//3\n",
    "while n >= 5:\n",
    "    n -= 5\n",
    "    count += 1\n",
    "    if n%3 == 0:\n",
    "        min_num = min(min_num, n//3 + count)\n",
    "\n",
    "if min_num == 100000:\n",
    "    print(-1)\n",
    "else:\n",
    "    print(min_num)"
   ]
  },
  {
   "cell_type": "code",
   "execution_count": null,
   "metadata": {},
   "outputs": [],
   "source": [
    "# 크로아티아 알파벳\n",
    "string = input()\n",
    "alphabet = {'c=':1, 'c-':1, 'd-':1, 'lj':1, 'nj':1, 's=':1}\n",
    "count = 0\n",
    "for i in range(len(string)):\n",
    "    if i != 0 and string[i-1:i+1] in alphabet:\n",
    "        count += 1\n",
    "        \n",
    "    if i == 1 and string[i-1:i+1] == 'z=':\n",
    "        count += 1\n",
    "    elif i > 1 and string[i-1:i+1] == 'z=':\n",
    "        if string[i-2] == 'd':\n",
    "            count += 2\n",
    "        else: count += 1\n",
    "print(len(string) - count)"
   ]
  },
  {
   "cell_type": "code",
   "execution_count": null,
   "metadata": {},
   "outputs": [],
   "source": [
    "# 스택\n",
    "num = int(input())\n",
    "order = list()\n",
    "for _ in range(num):\n",
    "    order.append(input())\n",
    "\n",
    "lst = list()\n",
    "for o in order:\n",
    "    word = o.split(' ')\n",
    "    if word[0] == 'push':\n",
    "        lst.append(word[1])\n",
    "    elif word[0] == 'pop':\n",
    "        if len(lst) == 0:\n",
    "            print(-1)\n",
    "        else:\n",
    "            print(lst.pop())\n",
    "    elif word[0] == 'top':\n",
    "        print(lst[-1])\n",
    "    elif word[0] == 'empty':\n",
    "        if len(lst) == 0:\n",
    "            print(1)\n",
    "        else: print(0)"
   ]
  }
 ],
 "metadata": {
  "kernelspec": {
   "display_name": "Python 3",
   "language": "python",
   "name": "python3"
  },
  "language_info": {
   "codemirror_mode": {
    "name": "ipython",
    "version": 3
   },
   "file_extension": ".py",
   "mimetype": "text/x-python",
   "name": "python",
   "nbconvert_exporter": "python",
   "pygments_lexer": "ipython3",
   "version": "3.8.5"
  }
 },
 "nbformat": 4,
 "nbformat_minor": 4
}
