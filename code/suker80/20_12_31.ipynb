{
 "cells": [
  {
   "cell_type": "markdown",
   "metadata": {},
   "source": [
    "# 기찍 N"
   ]
  },
  {
   "cell_type": "code",
   "execution_count": 2,
   "metadata": {},
   "outputs": [
    {
     "name": "stdout",
     "output_type": "stream",
     "text": [
      "5\n",
      "5\n",
      "4\n",
      "3\n",
      "2\n",
      "1\n"
     ]
    }
   ],
   "source": [
    "n = int(input())\n",
    "\n",
    "for i in range(n,0,-1):\n",
    "    print(i)"
   ]
  },
  {
   "cell_type": "markdown",
   "metadata": {},
   "source": [
    "# OX퀴즈"
   ]
  },
  {
   "cell_type": "code",
   "execution_count": 9,
   "metadata": {},
   "outputs": [
    {
     "name": "stdout",
     "output_type": "stream",
     "text": [
      "1\n",
      "oooxxx\n",
      "6\n"
     ]
    }
   ],
   "source": [
    "m = int(input())\n",
    "strings = []\n",
    "for i in range(m):\n",
    "    s= input()\n",
    "    strings.append(s)\n",
    "for string in strings:\n",
    "    count = 0 \n",
    "    current = 0\n",
    "    for s in (string):\n",
    "        \n",
    "\n",
    "        if s.lower() == 'o':\n",
    "            current +=1\n",
    "        if s.lower() == 'x':\n",
    "            current = 0\n",
    "        count += current\n",
    "    print(count)"
   ]
  },
  {
   "cell_type": "markdown",
   "metadata": {},
   "source": [
    "# 평균은 넘겠지"
   ]
  },
  {
   "cell_type": "code",
   "execution_count": 36,
   "metadata": {},
   "outputs": [
    {
     "name": "stdout",
     "output_type": "stream",
     "text": [
      "5\n",
      "5 50 50 70 80 100\n",
      "7 100 95 90 80 60 50\n",
      "3 70 90 80\n",
      "3 70 90 81\n",
      "9 100 99 98 97 96 95 94 93 91\n",
      "40.000%\n",
      "57.143%\n",
      "33.333%\n",
      "66.667%\n",
      "55.556%\n"
     ]
    }
   ],
   "source": [
    "n = int(input())\n",
    "scores = [] \n",
    "for i in range(n):\n",
    "    score = list(map(int,input().split()))\n",
    "    scores.append(score)\n",
    "\n",
    "for score in scores:\n",
    "    l = score[0]\n",
    "    avg = sum(score[1:]) / l\n",
    "    count = sum(list(map(lambda x: x>avg , score[1:])))\n",
    "    per =count/l * 100\n",
    "    print('%.3f'%per + '%')\n",
    "    "
   ]
  },
  {
   "cell_type": "markdown",
   "metadata": {},
   "source": [
    "# 피보나치 2"
   ]
  },
  {
   "cell_type": "code",
   "execution_count": 47,
   "metadata": {},
   "outputs": [
    {
     "name": "stdout",
     "output_type": "stream",
     "text": [
      "10\n",
      "55\n"
     ]
    }
   ],
   "source": [
    "n = int(input())\n",
    "fib = [0] * 100\n",
    "fib[0:3] =  [0, 1 , 1]\n",
    "for i in range(3,n+1):\n",
    "    fib[i] = fib[i-2] + fib[i-1]\n",
    "print(fib[n])"
   ]
  },
  {
   "cell_type": "markdown",
   "metadata": {},
   "source": [
    "# 괄호문자열"
   ]
  },
  {
   "cell_type": "code",
   "execution_count": 58,
   "metadata": {},
   "outputs": [
    {
     "name": "stdout",
     "output_type": "stream",
     "text": [
      "1\n",
      "(())())\n",
      "NO\n"
     ]
    }
   ],
   "source": [
    "n = int(input())\n",
    "strings = []\n",
    "for i in range(n):\n",
    "    string = input()\n",
    "    strings.append(string)\n",
    "for string in strings:\n",
    "    vps = 0\n",
    "    for s in string:\n",
    "        if s == '(' :\n",
    "            vps +=1\n",
    "        else :\n",
    "            vps -=1 \n",
    "        if vps<0:\n",
    "            print('NO')\n",
    "            break\n",
    "    else:\n",
    "        if vps == 0:\n",
    "            print('YES')\n",
    "        else:\n",
    "            print('NO')"
   ]
  }
 ],
 "metadata": {
  "kernelspec": {
   "display_name": "Python 3",
   "language": "python",
   "name": "python3"
  },
  "language_info": {
   "codemirror_mode": {
    "name": "ipython",
    "version": 3
   },
   "file_extension": ".py",
   "mimetype": "text/x-python",
   "name": "python",
   "nbconvert_exporter": "python",
   "pygments_lexer": "ipython3",
   "version": "3.6.5"
  }
 },
 "nbformat": 4,
 "nbformat_minor": 4
}
