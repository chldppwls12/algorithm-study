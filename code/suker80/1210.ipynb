{
 "cells": [
  {
   "cell_type": "markdown",
   "metadata": {},
   "source": [
    "# 2438번 별찍기"
   ]
  },
  {
   "cell_type": "code",
   "execution_count": 4,
   "metadata": {},
   "outputs": [
    {
     "name": "stdout",
     "output_type": "stream",
     "text": [
      "4\n",
      "\n",
      "*\n",
      "**\n",
      "***\n",
      "****\n"
     ]
    }
   ],
   "source": [
    "N = int(input())\n",
    "for i in range(1,N+1):\n",
    "    print('*'*i)"
   ]
  },
  {
   "cell_type": "markdown",
   "metadata": {},
   "source": [
    "# 11720번 숫자의 합"
   ]
  },
  {
   "cell_type": "code",
   "execution_count": 10,
   "metadata": {},
   "outputs": [
    {
     "name": "stdout",
     "output_type": "stream",
     "text": [
      "3\n",
      "123\n",
      "6\n"
     ]
    }
   ],
   "source": [
    "N = int(input())\n",
    "nums = map(int,input())\n",
    "print(sum(nums))"
   ]
  },
  {
   "cell_type": "markdown",
   "metadata": {},
   "source": [
    "# 1110번 더하기 사이클"
   ]
  },
  {
   "cell_type": "code",
   "execution_count": null,
   "metadata": {},
   "outputs": [],
   "source": [
    "n = int(input())\n",
    "cycle = 0\n",
    "ten = n // 10\n",
    "one = n % 10\n",
    "new = 0\n",
    "\n",
    "if n != 0 :\n",
    "    while True :\n",
    "        if n == new :\n",
    "            break\n",
    "        else :\n",
    "            new = ((ten + one) % 10) + (one * 10)\n",
    "            one = new % 10\n",
    "            ten = new // 10\n",
    "            cycle = cycle + 1\n",
    "else :\n",
    "    cycle = 1\n",
    "\n",
    "print(cycle)"
   ]
  },
  {
   "cell_type": "markdown",
   "metadata": {},
   "source": [
    "# 1316번 그룹단어 체커\n"
   ]
  },
  {
   "cell_type": "code",
   "execution_count": 26,
   "metadata": {},
   "outputs": [
    {
     "name": "stdout",
     "output_type": "stream",
     "text": [
      "4\n",
      "aba\n",
      "abab\n",
      "abcabc\n",
      "a\n",
      "1\n"
     ]
    }
   ],
   "source": [
    "n= int(input())\n",
    "strings = []\n",
    "for _ in range(n):\n",
    "    strings.append(input())\n",
    "count = 0\n",
    "\n",
    "for string in strings:\n",
    "    c = 1 \n",
    "    for i in range(len(string) - 1 ):\n",
    "        if string[i] != string[ i + 1 ]:\n",
    "            c += 1\n",
    "    if c == len(set(string)):\n",
    "        count +=1\n",
    "print(count)"
   ]
  },
  {
   "cell_type": "markdown",
   "metadata": {},
   "source": [
    "# 1065번 한수"
   ]
  },
  {
   "cell_type": "code",
   "execution_count": 61,
   "metadata": {},
   "outputs": [
    {
     "name": "stdout",
     "output_type": "stream",
     "text": [
      "210\n",
      "0 0\n",
      "-1 -1\n",
      "-2 -2\n",
      "-3 -3\n",
      "-4 -4\n",
      "1 1\n",
      "105\n"
     ]
    }
   ],
   "source": [
    "N = int(input())\n",
    "\n",
    "count = 0\n",
    "\n",
    "if N < 100:\n",
    "    print(N)\n",
    "else :\n",
    "    count = 99\n",
    "    for i in range(100,N + 1):\n",
    "        n = str(i)\n",
    "        hun = int(n[0])\n",
    "        ten = int(n[1])\n",
    "        one = int(n[2])\n",
    "        if hun - ten == ten -one:\n",
    "            count +=1\n",
    "    print(count)"
   ]
  }
 ],
 "metadata": {
  "kernelspec": {
   "display_name": "Python 3",
   "language": "python",
   "name": "python3"
  },
  "language_info": {
   "codemirror_mode": {
    "name": "ipython",
    "version": 3
   },
   "file_extension": ".py",
   "mimetype": "text/x-python",
   "name": "python",
   "nbconvert_exporter": "python",
   "pygments_lexer": "ipython3",
   "version": "3.7.6"
  }
 },
 "nbformat": 4,
 "nbformat_minor": 4
}
