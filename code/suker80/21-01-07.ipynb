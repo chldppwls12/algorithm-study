{
 "cells": [
  {
   "cell_type": "markdown",
   "metadata": {},
   "source": [
    "# 두 개의 자연수를 입력받아 최대 공약수와 최소 공배수를 출력하는 프로그램을 작성하시오.\n",
    "\n"
   ]
  },
  {
   "cell_type": "code",
   "execution_count": null,
   "metadata": {},
   "outputs": [],
   "source": [
    "n, m = map(int,input().split())\n",
    "\n",
    "if n > m:\n",
    "    a,b= n,m\n",
    "else:\n",
    "    a,b = m,n\n",
    "# 유클리드 호제법  a > b 일때 a = bq + r 로 나타낼수있다 . gcd(a,b)  = gcd(b,r) 나머지가 0이 될때까지\n",
    "\n",
    "while b != 0:\n",
    "    r= a % b\n",
    "    a= b\n",
    "    b= r\n",
    "\n",
    "print(a)\n",
    "print(int((m*n)/a))"
   ]
  },
  {
   "cell_type": "markdown",
   "metadata": {},
   "source": [
    "# 정수를 저장하는 큐를 구현한 다음, 입력으로 주어지는 명령을 처리하는 프로그램을 작성하시오.\n",
    "\n"
   ]
  },
  {
   "cell_type": "code",
   "execution_count": null,
   "metadata": {},
   "outputs": [],
   "source": [
    "# class queue():\n",
    "#     def __init__(self):\n",
    "#         self.queue = []\n",
    "    \n",
    "#     def push(self,value):\n",
    "#         self.queue.append(value)\n",
    "#     def pop(self):\n",
    "#         if self.empty():\n",
    "#             return -1\n",
    "#         p = self.queue.pop(0)\n",
    "#         return p\n",
    "#     def empty(self):\n",
    "        \n",
    "#         return int(len(self.queue) == 0 )\n",
    "#     def size(self):\n",
    "        \n",
    "#         return len(self.queue)\n",
    "#     def front(self):\n",
    "#         if self.empty():\n",
    "#             return -1\n",
    "#         return self.queue[0]\n",
    "#     def back(self):\n",
    "#         if self.empty():\n",
    "#             return -1\n",
    "        \n",
    "#         return self.queue[-1]\n",
    "\n",
    "# q = queue()\n",
    "\n",
    "# num_command = int(input())\n",
    "\n",
    "# for _ in range(num_command):\n",
    "#     command = input().split()\n",
    "    \n",
    "#     if command[0] == 'push':\n",
    "#         c= getattr(q,command[0])\n",
    "#         c(command[1])\n",
    "#     else:\n",
    "#         c= getattr(q,command[0])\n",
    "#         print(c())"
   ]
  },
  {
   "cell_type": "code",
   "execution_count": 2,
   "metadata": {},
   "outputs": [
    {
     "name": "stdout",
     "output_type": "stream",
     "text": [
      "15\n",
      "push 1\n",
      "push 2\n",
      "front\n",
      "1\n",
      "back\n",
      "2\n",
      "size\n",
      "2\n",
      "empty\n",
      "0\n",
      "pop\n",
      "1\n",
      "pop\n",
      "2\n",
      "pop\n",
      "-1\n",
      "size\n",
      "0\n",
      "empty\n",
      "1\n",
      "pop\n",
      "-1\n",
      "push 3\n",
      "empty\n",
      "0\n",
      "front\n",
      "3\n"
     ]
    }
   ],
   "source": [
    "from collections import deque\n",
    "\n",
    "queue = deque()\n",
    "n = int(input())\n",
    "import sys\n",
    "for _ in range(n):\n",
    "    command = sys.stdin.readline().split()\n",
    "    \n",
    "    c= command[0]\n",
    "    \n",
    "    if c== 'push':\n",
    "        queue.append(command[1])\n",
    "    elif c == 'pop':\n",
    "        if queue:\n",
    "            print(queue.popleft())\n",
    "        else:\n",
    "            print(-1)\n",
    "    elif c=='size':\n",
    "        print(len(queue))\n",
    "    elif c== 'empty':\n",
    "        if queue:\n",
    "            print(0)\n",
    "        else:\n",
    "            print(1)\n",
    "    elif c == 'front':\n",
    "        if queue:\n",
    "            print(queue[0])\n",
    "        else:\n",
    "            print(-1)\n",
    "    elif c == 'back':\n",
    "        if queue:\n",
    "            print(queue[-1])\n",
    "        else:\n",
    "            print(-1)"
   ]
  },
  {
   "cell_type": "markdown",
   "metadata": {},
   "source": [
    "# 1로 만들기"
   ]
  },
  {
   "cell_type": "code",
   "execution_count": null,
   "metadata": {},
   "outputs": [],
   "source": [
    "N = int(input())\n",
    "dp = [0,0,1,1] \n",
    "for i in range(4, N+1) :\n",
    "    dp.append(dp[i-1]+1)\n",
    "    if i%2==0:\n",
    "        dp[i]=min(dp[i],dp[i//2]+1)\n",
    "    if i%3==0 :\n",
    "        dp[i]=min(dp[i],dp[i//3]+1)\n",
    "print(dp[N])"
   ]
  },
  {
   "cell_type": "markdown",
   "metadata": {},
   "source": [
    "# DFS와 BFS"
   ]
  },
  {
   "cell_type": "code",
   "execution_count": null,
   "metadata": {},
   "outputs": [],
   "source": [
    "n , m , root = map(int,input().split(' '))\n",
    "graph = [[] for i in range(n+1)]\n",
    "for i in range(m):\n",
    "    u,m = [int(_) for _ in input().split(' ')]\n",
    "    graph[u].append(m)\n",
    "    graph[m].append(u)\n",
    "\n",
    "graph = [sorted(_) for _ in graph]\n",
    "\n",
    "from collections import deque\n",
    "def bfs(graph,start):\n",
    "    visit = []\n",
    "    queue = deque([start])\n",
    "    while queue:\n",
    "        n = queue.popleft()\n",
    "        if n not in visit:\n",
    "            visit.append(n)\n",
    "            queue.extend(graph[n])\n",
    "    return visit\n",
    "\n",
    "def dfs(graph,root):\n",
    "    visit = []\n",
    "    stack = [root]\n",
    "    \n",
    "    while stack:\n",
    "        node = stack.pop()\n",
    "        if node not in visit:\n",
    "            visit.append(node)\n",
    "            stack.extend(sorted(graph[node],reverse = True))\n",
    "    return visit\n",
    "\n",
    "print(*dfs(graph,root))\n",
    "print(*bfs(graph,root))"
   ]
  },
  {
   "cell_type": "markdown",
   "metadata": {},
   "source": [
    "# 미로 탐색"
   ]
  },
  {
   "cell_type": "code",
   "execution_count": 88,
   "metadata": {},
   "outputs": [
    {
     "name": "stdout",
     "output_type": "stream",
     "text": [
      "4 6\n",
      "101111\n",
      "101010\n",
      "101011\n",
      "111011\n"
     ]
    }
   ],
   "source": [
    "n , m = map(int,input().split())\n",
    "graph= [[]]\n",
    "\n",
    "for _ in range(n):\n",
    "    graph.append([0] +[int(_) for _  in input()])\n",
    "\n",
    "visit = dist = [[0] * (m+1) for _ in range(n+1)]\n",
    "start = [1,1]\n",
    "dist[1][1]= 1 \n",
    "from collections import deque\n",
    "queue = deque([start])\n",
    "xx = [0,0,-1,1] # 위 아래 왼 오른\n",
    "yy= [-1,1,0,0] # 위 아래 왼 오른\n",
    "\n",
    "while queue:\n",
    "    x,y = queue.popleft()\n",
    "    if x == n and y == m:\n",
    "        break\n",
    "\n",
    "    for i in range(4):\n",
    "        x_temp , y_temp  = x + xx[i] , y+yy[i]\n",
    "        \n",
    "        if 0<x_temp <= n and 0<y_temp <= m and visit[x_temp][y_temp] == 0 and graph[x_temp][y_temp] !=0:\n",
    "            dist[x_temp][y_temp] = dist[x][y] + 1\n",
    "            queue.append([x_temp,y_temp])\n",
    "print(dist[n][m])"
   ]
  }
 ],
 "metadata": {
  "kernelspec": {
   "display_name": "Python 3",
   "language": "python",
   "name": "python3"
  },
  "language_info": {
   "codemirror_mode": {
    "name": "ipython",
    "version": 3
   },
   "file_extension": ".py",
   "mimetype": "text/x-python",
   "name": "python",
   "nbconvert_exporter": "python",
   "pygments_lexer": "ipython3",
   "version": "3.6.5"
  }
 },
 "nbformat": 4,
 "nbformat_minor": 4
}
