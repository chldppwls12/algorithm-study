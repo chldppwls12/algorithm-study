{
 "cells": [
  {
   "cell_type": "code",
   "execution_count": 7,
   "metadata": {},
   "outputs": [
    {
     "name": "stdout",
     "output_type": "stream",
     "text": [
      "5\n",
      "*\n",
      "**\n",
      "***\n",
      "****\n",
      "*****\n"
     ]
    }
   ],
   "source": [
    "# 별 찍기 - 1\n",
    "n = int(input())\n",
    "\n",
    "for i in range(n):\n",
    "    print('*' * (i+1))"
   ]
  },
  {
   "cell_type": "code",
   "execution_count": 18,
   "metadata": {},
   "outputs": [
    {
     "name": "stdout",
     "output_type": "stream",
     "text": [
      "5\n",
      "42321\n",
      "12\n"
     ]
    }
   ],
   "source": [
    "# 숫자의 합\n",
    "n = int(input())\n",
    "lst = [int(i) for i in list(input())]\n",
    "print(sum(lst))"
   ]
  },
  {
   "cell_type": "code",
   "execution_count": 16,
   "metadata": {},
   "outputs": [
    {
     "name": "stdout",
     "output_type": "stream",
     "text": [
      "26\n",
      "4\n"
     ]
    }
   ],
   "source": [
    "# 더하기 사이클\n",
    "number = [int(i) for i in list(input())]\n",
    "\n",
    "# 길이가 0인 경우\n",
    "if len(number) == 1:\n",
    "    number.insert(0, 0)\n",
    "count = 0\n",
    "previous = number.copy()\n",
    "new = [0, 0]\n",
    "while 1:\n",
    "    count += 1\n",
    "    new[0], new[1] = previous[1], sum(previous) % 10\n",
    "    \n",
    "    if new == number:\n",
    "        break\n",
    "    previous = new.copy()\n",
    "print(count)"
   ]
  },
  {
   "cell_type": "code",
   "execution_count": 19,
   "metadata": {},
   "outputs": [
    {
     "name": "stdout",
     "output_type": "stream",
     "text": [
      "4\n",
      "abc\n",
      "abab\n",
      "abcabc\n",
      "a\n",
      "2\n"
     ]
    }
   ],
   "source": [
    "# 그룹 단어 체커\n",
    "n = int(input())\n",
    "\n",
    "# 문자열 input 처리\n",
    "string_list = []\n",
    "for i in range(n):\n",
    "    string_list.append(input())\n",
    "stack, top = [], -1 # stack list 생성\n",
    "count = 0 # 단어 그룹 개수\n",
    "for word in string_list:\n",
    "    group_dic = {}\n",
    "    \n",
    "    for w in word:\n",
    "        if w not in group_dic:\n",
    "            group_dic[w] = 1\n",
    "            stack.append(w)\n",
    "            top += 1\n",
    "        elif stack[top] == w: continue\n",
    "        else: break\n",
    "    else: count += 1\n",
    "\n",
    "print(count)"
   ]
  },
  {
   "cell_type": "code",
   "execution_count": 36,
   "metadata": {},
   "outputs": [
    {
     "name": "stdout",
     "output_type": "stream",
     "text": [
      "88\n",
      "88\n"
     ]
    }
   ],
   "source": [
    "# 한수\n",
    "n = int(input())\n",
    "common = list(range(-9, 9))\n",
    "answer = []\n",
    "if n < 100:\n",
    "    print(n)\n",
    "else:\n",
    "    for i in range(1, 11):\n",
    "        for c in common:\n",
    "            if 0 <= i + 2*c < 10:\n",
    "                new = int(str(i) + str(i + c) + str(i + 2*c))\n",
    "                if new > n: continue\n",
    "                answer.append(int(str(i) + str(i + c) + str(i + 2*c)))\n",
    "    print(len(answer) + 99)"
   ]
  },
  {
   "cell_type": "code",
   "execution_count": null,
   "metadata": {},
   "outputs": [],
   "source": []
  }
 ],
 "metadata": {
  "kernelspec": {
   "display_name": "Python 3",
   "language": "python",
   "name": "python3"
  },
  "language_info": {
   "codemirror_mode": {
    "name": "ipython",
    "version": 3
   },
   "file_extension": ".py",
   "mimetype": "text/x-python",
   "name": "python",
   "nbconvert_exporter": "python",
   "pygments_lexer": "ipython3",
   "version": "3.8.5"
  }
 },
 "nbformat": 4,
 "nbformat_minor": 4
}
